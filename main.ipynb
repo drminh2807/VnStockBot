{
 "cells": [
  {
   "cell_type": "code",
   "execution_count": null,
   "metadata": {},
   "outputs": [],
   "source": [
    "!pip install -U vnstock3"
   ]
  },
  {
   "cell_type": "code",
   "execution_count": 2,
   "metadata": {},
   "outputs": [
    {
     "name": "stdout",
     "output_type": "stream",
     "text": [
      "\n",
      "    Khi tiếp tục sử dụng Vnstock3, bạn xác nhận rằng bạn đã đọc, hiểu và đồng ý với Chính sách quyền riêng tư và Điều khoản, điều kiện về giấy phép sử dụng Vnstock3.\n",
      "\n",
      "    Chi tiết:\n",
      "\n",
      "    - Giấy phép sử dụng phần mềm: https://vnstocks.com/docs/tai-lieu/giay-phep-su-dung\n",
      "    - Chính sách quyền riêng tư: https://vnstocks.com/docs/tai-lieu/chinh-sach-quyen-rieng-tu\n",
      "    \n"
     ]
    },
    {
     "name": "stderr",
     "output_type": "stream",
     "text": [
      "Matplotlib is building the font cache; this may take a moment.\n"
     ]
    }
   ],
   "source": [
    "from vnstock3 import Vnstock"
   ]
  },
  {
   "cell_type": "code",
   "execution_count": 4,
   "metadata": {},
   "outputs": [
    {
     "name": "stderr",
     "output_type": "stream",
     "text": [
      "2024-08-30 18:04:09,920 - vnstock3.common.data.data_explorer - WARNING - Thông tin niêm yết & giao dịch sẽ được truy xuất từ TCBS\n"
     ]
    }
   ],
   "source": [
    "stock = Vnstock().stock(symbol='FPT', source='VCI')"
   ]
  },
  {
   "cell_type": "code",
   "execution_count": 20,
   "metadata": {},
   "outputs": [
    {
     "data": {
      "text/plain": [
       "Meta                         CP                               object\n",
       "                             Năm                               int64\n",
       "                             Kỳ                                int64\n",
       "Chỉ tiêu định giá            P/B                             float64\n",
       "                             Vốn hóa (Tỷ đồng)                 int64\n",
       "                             Số CP lưu hành (Triệu CP)         int64\n",
       "                             P/E                             float64\n",
       "                             P/S                             float64\n",
       "                             P/Cash Flow                     float64\n",
       "                             EPS (VND)                       float64\n",
       "                             BVPS (VND)                      float64\n",
       "                             EV/EBITDA                       float64\n",
       "Chỉ tiêu khả năng sinh lợi   Biên lợi nhuận gộp (%)          float64\n",
       "                             Biên lợi nhuận ròng (%)         float64\n",
       "                             ROE (%)                         float64\n",
       "                             ROIC (%)                        float64\n",
       "                             ROA (%)                         float64\n",
       "                             Biên EBIT (%)                   float64\n",
       "                             EBITDA (Tỷ đồng)                  int64\n",
       "                             EBIT (Tỷ đồng)                    int64\n",
       "                             Tỷ suất cổ tức (%)              float64\n",
       "Chỉ tiêu thanh khoản         Chỉ số thanh toán hiện thời     float64\n",
       "                             Chỉ số thanh toán tiền mặt      float64\n",
       "                             Chỉ số thanh toán nhanh         float64\n",
       "                             Khả năng chi trả lãi vay        float64\n",
       "                             Đòn bẩy tài chính               float64\n",
       "Chỉ tiêu hiệu quả hoạt động  Vòng quay tài sản               float64\n",
       "                             Vòng quay TSCĐ                  float64\n",
       "                             Số ngày thu tiền bình quân      float64\n",
       "                             Số ngày tồn kho bình quân       float64\n",
       "                             Số ngày thanh toán bình quân    float64\n",
       "                             Chu kỳ tiền                     float64\n",
       "                             Vòng quay hàng tồn kho          float64\n",
       "Chỉ tiêu cơ cấu nguồn vốn    (Vay NH+DH)/VCSH                float64\n",
       "                             Nợ/VCSH                         float64\n",
       "                             TSCĐ / Vốn CSH                  float64\n",
       "                             Vốn CSH/Vốn điều lệ             float64\n",
       "dtype: object"
      ]
     },
     "execution_count": 20,
     "metadata": {},
     "output_type": "execute_result"
    }
   ],
   "source": [
    "stock.finance.ratio(period='year', lang='vi').dtypes"
   ]
  },
  {
   "cell_type": "code",
   "execution_count": 28,
   "metadata": {},
   "outputs": [
    {
     "data": {
      "text/html": [
       "<div>\n",
       "<style scoped>\n",
       "    .dataframe tbody tr th:only-of-type {\n",
       "        vertical-align: middle;\n",
       "    }\n",
       "\n",
       "    .dataframe tbody tr th {\n",
       "        vertical-align: top;\n",
       "    }\n",
       "\n",
       "    .dataframe thead tr th {\n",
       "        text-align: left;\n",
       "    }\n",
       "</style>\n",
       "<table border=\"1\" class=\"dataframe\">\n",
       "  <thead>\n",
       "    <tr>\n",
       "      <th></th>\n",
       "      <th>Chỉ tiêu khả năng sinh lợi</th>\n",
       "    </tr>\n",
       "    <tr>\n",
       "      <th></th>\n",
       "      <th>ROIC (%)</th>\n",
       "    </tr>\n",
       "  </thead>\n",
       "  <tbody>\n",
       "    <tr>\n",
       "      <th>0</th>\n",
       "      <td>0.192174</td>\n",
       "    </tr>\n",
       "    <tr>\n",
       "      <th>1</th>\n",
       "      <td>0.180044</td>\n",
       "    </tr>\n",
       "    <tr>\n",
       "      <th>2</th>\n",
       "      <td>0.130439</td>\n",
       "    </tr>\n",
       "    <tr>\n",
       "      <th>3</th>\n",
       "      <td>0.146901</td>\n",
       "    </tr>\n",
       "    <tr>\n",
       "      <th>4</th>\n",
       "      <td>0.168142</td>\n",
       "    </tr>\n",
       "    <tr>\n",
       "      <th>5</th>\n",
       "      <td>0.143591</td>\n",
       "    </tr>\n",
       "    <tr>\n",
       "      <th>6</th>\n",
       "      <td>0.176704</td>\n",
       "    </tr>\n",
       "    <tr>\n",
       "      <th>7</th>\n",
       "      <td>0.142538</td>\n",
       "    </tr>\n",
       "    <tr>\n",
       "      <th>8</th>\n",
       "      <td>0.154580</td>\n",
       "    </tr>\n",
       "    <tr>\n",
       "      <th>9</th>\n",
       "      <td>0.144807</td>\n",
       "    </tr>\n",
       "    <tr>\n",
       "      <th>10</th>\n",
       "      <td>0.204368</td>\n",
       "    </tr>\n",
       "  </tbody>\n",
       "</table>\n",
       "</div>"
      ],
      "text/plain": [
       "   Chỉ tiêu khả năng sinh lợi\n",
       "                     ROIC (%)\n",
       "0                    0.192174\n",
       "1                    0.180044\n",
       "2                    0.130439\n",
       "3                    0.146901\n",
       "4                    0.168142\n",
       "5                    0.143591\n",
       "6                    0.176704\n",
       "7                    0.142538\n",
       "8                    0.154580\n",
       "9                    0.144807\n",
       "10                   0.204368"
      ]
     },
     "execution_count": 28,
     "metadata": {},
     "output_type": "execute_result"
    }
   ],
   "source": [
    "stock.finance.ratio(period='year', lang='vi').iloc[:,15:16]"
   ]
  }
 ],
 "metadata": {
  "kernelspec": {
   "display_name": ".venv",
   "language": "python",
   "name": "python3"
  },
  "language_info": {
   "codemirror_mode": {
    "name": "ipython",
    "version": 3
   },
   "file_extension": ".py",
   "mimetype": "text/x-python",
   "name": "python",
   "nbconvert_exporter": "python",
   "pygments_lexer": "ipython3",
   "version": "3.12.4"
  }
 },
 "nbformat": 4,
 "nbformat_minor": 2
}
